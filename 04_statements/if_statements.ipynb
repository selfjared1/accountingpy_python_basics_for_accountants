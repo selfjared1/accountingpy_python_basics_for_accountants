{
 "cells": [
  {
   "cell_type": "code",
   "execution_count": 1,
   "metadata": {},
   "outputs": [
    {
     "name": "stdout",
     "output_type": "stream",
     "text": [
      "It is true!\n"
     ]
    }
   ],
   "source": [
    "if True:\n",
    "    print('It is true!')"
   ]
  },
  {
   "cell_type": "code",
   "execution_count": 3,
   "metadata": {},
   "outputs": [
    {
     "name": "stdout",
     "output_type": "stream",
     "text": [
      "it is false!\n"
     ]
    }
   ],
   "source": [
    "if False:\n",
    "    print('It is true!')\n",
    "else:\n",
    "    print('it is false!')"
   ]
  },
  {
   "cell_type": "code",
   "execution_count": 4,
   "metadata": {},
   "outputs": [
    {
     "name": "stdout",
     "output_type": "stream",
     "text": [
      "it is false!\n"
     ]
    }
   ],
   "source": [
    "if False:\n",
    "    print('It is true!')\n",
    "elif False:\n",
    "    print('It is true2!')\n",
    "else:\n",
    "    print('it is false!')\n",
    "    "
   ]
  },
  {
   "cell_type": "code",
   "execution_count": 7,
   "metadata": {},
   "outputs": [
    {
     "name": "stdout",
     "output_type": "stream",
     "text": [
      "It is true2!\n"
     ]
    }
   ],
   "source": [
    "if 2==1:\n",
    "    print('It is true!')\n",
    "elif 2>=1:\n",
    "    print('It is true2!')\n",
    "else:\n",
    "    print('it is false!')"
   ]
  }
 ],
 "metadata": {
  "kernelspec": {
   "display_name": "Python 3",
   "language": "python",
   "name": "python3"
  },
  "language_info": {
   "codemirror_mode": {
    "name": "ipython",
    "version": 3
   },
   "file_extension": ".py",
   "mimetype": "text/x-python",
   "name": "python",
   "nbconvert_exporter": "python",
   "pygments_lexer": "ipython3",
   "version": "3.8.2"
  }
 },
 "nbformat": 4,
 "nbformat_minor": 4
}
