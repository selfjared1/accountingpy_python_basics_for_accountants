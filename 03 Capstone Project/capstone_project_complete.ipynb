{
 "cells": [
  {
   "cell_type": "code",
   "execution_count": 6,
   "metadata": {},
   "outputs": [],
   "source": [
    "import csv\n",
    "import os\n",
    "#make sure to change the os.chdir to the location of the csv files for this project\n",
    "os.chdir('C:\\\\Users\\\\User\\\\Desktop\\\\Quickbooks Reports\\\\Capstone Project Files')"
   ]
  },
  {
   "cell_type": "code",
   "execution_count": 7,
   "metadata": {},
   "outputs": [],
   "source": [
    "def make_profit_margin(net_income,net_sales):\n",
    "    profit_margin = net_income/net_sales\n",
    "    return profit_margin\n",
    "\n",
    "def make_average_total_assets(beginning_assets, ending_assets):\n",
    "    average_total_assets = (beginning_assets + ending_assets)/2\n",
    "    return average_total_assets\n",
    "\n",
    "def make_asset_turnover(net_sales, average_total_assets):\n",
    "    asset_turnover = net_sales/average_total_assets\n",
    "    return asset_turnover\n",
    "\n",
    "def make_financial_leverage(ending_assets,ending_equity):\n",
    "    financial_leverage = ending_assets/ending_equity\n",
    "    return financial_leverage\n",
    "\n",
    "def make_return_on_equity(profit_margin, asset_turnover, financial_leverage):\n",
    "    return_on_equity = profit_margin * asset_turnover * financial_leverage\n",
    "    return return_on_equity\n",
    "\n",
    "def print_percentage(float_num):\n",
    "    percentage_number = float_num*100\n",
    "    decimal_index = str(percentage_number).find(\".\")\n",
    "    percent_return = f'{percentage_number:{decimal_index}.1f}%'\n",
    "    return percent_return\n",
    "\n",
    "def dupont_equation(pl,bs):\n",
    "    profit_margin = make_profit_margin(pl['net_income'], pl['net_sales'])\n",
    "    average_total_assets = make_average_total_assets(bs['beginning_assets'], bs['ending_assets'])\n",
    "    asset_turnover = make_asset_turnover(pl['net_sales'], average_total_assets)\n",
    "    financial_leverage = make_financial_leverage(bs['ending_assets'], bs['ending_equity'])\n",
    "    return_on_equity = make_return_on_equity(profit_margin, asset_turnover, financial_leverage)\n",
    "    return return_on_equity"
   ]
  },
  {
   "cell_type": "code",
   "execution_count": 8,
   "metadata": {},
   "outputs": [],
   "source": [
    "with open('PL 2024.CSV', newline='') as f:\n",
    "    reader = csv.reader(f)\n",
    "    PL_2024 = list(reader)\n",
    "\n",
    "jan_pl = PL_2024[0].index('Jan 24')\n",
    "feb_pl = PL_2024[0].index('Feb 24')\n",
    "mar_pl = PL_2024[0].index('Mar 24')\n",
    "apr_pl = PL_2024[0].index('Apr 24')\n",
    "may_pl = PL_2024[0].index('May 24')\n",
    "jun_pl = PL_2024[0].index('Jun 24')\n",
    "jul_pl = PL_2024[0].index('Jul 24')\n",
    "aug_pl = PL_2024[0].index('Aug 24')\n",
    "sep_pl = PL_2024[0].index('Sep 24')\n",
    "oct_pl = PL_2024[0].index('Oct 24')\n",
    "nov_pl = PL_2024[0].index('Nov 24')\n",
    "dec_pl = PL_2024[0].index('Dec 24')\n",
    "\n",
    "pl_months = (\n",
    "jan_pl,\n",
    "feb_pl,\n",
    "mar_pl,\n",
    "apr_pl,\n",
    "may_pl,\n",
    "jun_pl,\n",
    "jul_pl,\n",
    "aug_pl,\n",
    "sep_pl,\n",
    "oct_pl,\n",
    "nov_pl,\n",
    "dec_pl)\n"
   ]
  },
  {
   "cell_type": "code",
   "execution_count": 9,
   "metadata": {},
   "outputs": [],
   "source": [
    "with open('BS YE 2023 to YE 2024 by month.CSV', newline='') as f:\n",
    "    reader = csv.reader(f)\n",
    "    BS_2024 = list(reader)\n",
    "    \n",
    "dec_bs_last_year = BS_2024[0].index('Dec 31, 23')\n",
    "jan_bs = BS_2024[0].index('Jan 31, 24')\n",
    "feb_bs = BS_2024[0].index('Feb 29, 24')\n",
    "mar_bs = BS_2024[0].index('Mar 31, 24')\n",
    "apr_bs = BS_2024[0].index('Apr 30, 24')\n",
    "may_bs = BS_2024[0].index('May 31, 24')\n",
    "jun_bs = BS_2024[0].index('Jun 30, 24')\n",
    "jul_bs = BS_2024[0].index('Jul 31, 24')\n",
    "aug_bs = BS_2024[0].index('Aug 31, 24')\n",
    "sep_bs = BS_2024[0].index('Sep 30, 24')\n",
    "oct_bs = BS_2024[0].index('Oct 31, 24')\n",
    "nov_bs = BS_2024[0].index('Nov 30, 24')\n",
    "dec_bs = BS_2024[0].index('Dec 31, 24')"
   ]
  },
  {
   "cell_type": "code",
   "execution_count": 10,
   "metadata": {},
   "outputs": [
    {
     "name": "stdout",
     "output_type": "stream",
     "text": [
      "account that we are looking at is Total Income\n",
      "account \"Total Income\" matches row[0] which is \"Total Income\" and i = 6\n",
      "account that we are looking at is Total COGS\n",
      "account \"Total COGS\" matches row[0] which is \"Total COGS\" and i = 17\n",
      "account that we are looking at is Gross Profit\n",
      "account \"Gross Profit\" matches row[0] which is \"Gross Profit\" and i = 18\n",
      "account that we are looking at is Advertising Expense\n",
      "account \"Advertising Expense\" matches row[0] which is \"Advertising Expense\" and i = 20\n",
      "account that we are looking at is Depreciation Expense\n",
      "account \"Depreciation Expense\" matches row[0] which is \"Depreciation Expense\" and i = 32\n",
      "account that we are looking at is Total Wages\n",
      "account \"Total Wages\" matches row[0] which is \"Total Wages\" and i = 64\n",
      "account that we are looking at is Interest Expense\n",
      "account \"Interest Expense\" matches row[0] which is \"Interest Expense\" and i = 70\n",
      "account that we are looking at is Net Income\n",
      "account \"Net Income\" matches row[0] which is \"Net Income\" and i = 74\n"
     ]
    }
   ],
   "source": [
    "pl_account_row = {'Total Income':0,\n",
    "               'Total COGS':0, \n",
    "               'Gross Profit':0, \n",
    "               'Advertising Expense':0, \n",
    "               'Depreciation Expense':0, \n",
    "               'Total Wages':0, \n",
    "               'Interest Expense':0,\n",
    "                 'Net Income':0}\n",
    "\n",
    "for account in pl_account_row:\n",
    "    print(f'account that we are looking at is {account}')\n",
    "    i = 0\n",
    "    for row in PL_2024:\n",
    "        account_in_pl = row[0]\n",
    "        if account_in_pl == account:\n",
    "            pl_account_row[account] = i\n",
    "            print(f'account \"{account}\" matches row[0] which is \"{row[0]}\" and i = {i}')\n",
    "        i+=1"
   ]
  },
  {
   "cell_type": "code",
   "execution_count": 11,
   "metadata": {},
   "outputs": [
    {
     "name": "stdout",
     "output_type": "stream",
     "text": [
      "account that we are looking at is Other Current Assets\n",
      "account \"Other Current Assets\" matches row[0] which is \"Other Current Assets\" and i = 11\n",
      "account that we are looking at is Total Checking/Savings\n",
      "account \"Total Checking/Savings\" matches row[0] which is \"Total Checking/Savings\" and i = 7\n",
      "account that we are looking at is Total Fixed Assets\n",
      "account \"Total Fixed Assets\" matches row[0] which is \"Total Fixed Assets\" and i = 29\n",
      "account that we are looking at is TOTAL ASSETS\n",
      "account \"TOTAL ASSETS\" matches row[0] which is \"TOTAL ASSETS\" and i = 30\n",
      "account that we are looking at is Total Accounts Payable\n",
      "account \"Total Accounts Payable\" matches row[0] which is \"Total Accounts Payable\" and i = 36\n",
      "account that we are looking at is Other Current Liabilities\n",
      "account \"Other Current Liabilities\" matches row[0] which is \"Other Current Liabilities\" and i = 40\n",
      "account that we are looking at is Total Liabilities\n",
      "account \"Total Liabilities\" matches row[0] which is \"Total Liabilities\" and i = 49\n",
      "account that we are looking at is Total Equity\n",
      "account \"Total Equity\" matches row[0] which is \"Total Equity\" and i = 56\n"
     ]
    }
   ],
   "source": [
    "bs_account_row = {'Other Current Assets':0,\n",
    "               'Total Checking/Savings':0, \n",
    "               'Total Fixed Assets':0, \n",
    "               'TOTAL ASSETS':0, \n",
    "               'Total Accounts Payable':0, \n",
    "               'Other Current Liabilities':0, \n",
    "               'Total Liabilities':0,\n",
    "                 'Total Equity':0}\n",
    "\n",
    "for account in bs_account_row:\n",
    "    print(f'account that we are looking at is {account}')\n",
    "    i = 0\n",
    "    for row in BS_2024:\n",
    "        account_in_bs = row[0]\n",
    "        if account_in_bs == account:\n",
    "            bs_account_row[account] = i\n",
    "            print(f'account \"{account}\" matches row[0] which is \"{row[0]}\" and i = {i}')\n",
    "        i+=1"
   ]
  },
  {
   "cell_type": "code",
   "execution_count": 38,
   "metadata": {},
   "outputs": [],
   "source": [
    "financial_analysis = [\n",
    "    ['', 'Jan', 'Feb', 'Mar', 'Apr', 'May', 'Jun', 'Jul', 'Aug', 'Sep', 'Oct', 'Nov', 'Dec']\n",
    "]"
   ]
  },
  {
   "cell_type": "code",
   "execution_count": 39,
   "metadata": {},
   "outputs": [
    {
     "name": "stdout",
     "output_type": "stream",
     "text": [
      "1.3%\n",
      "5.7%\n",
      "2.3%\n",
      "1.9%\n",
      "1.6%\n",
      "4.9%\n",
      "0.3%\n",
      "3.9%\n",
      "5.7%\n",
      "0.7%\n",
      "-1.4%\n",
      "3.1%\n",
      "['Return On Equity', 0.01261293997785542, 0.05746265405391262, 0.02340722047745403, 0.019278663424335863, 0.015990528762367354, 0.0493922497521537, 0.003287254227247438, 0.03890132771989937, 0.05726349606921783, 0.007386498194324083, -0.013985290169978511, 0.031399593373731716]\n"
     ]
    }
   ],
   "source": [
    "#example for dupont equation\n",
    "\n",
    "new_row = ['Return On Equity']\n",
    "\n",
    "for pl_month in pl_months:\n",
    "    pl = {\n",
    "    'net_income':float(PL_2024[pl_account_row['Net Income']][pl_month]),\n",
    "    'net_sales':float(PL_2024[pl_account_row['Total Income']][pl_month])\n",
    "    }\n",
    "\n",
    "    bs = {\n",
    "        'beginning_assets':float(BS_2024[bs_account_row['TOTAL ASSETS']][pl_month]),\n",
    "        'ending_assets':float(BS_2024[bs_account_row['TOTAL ASSETS']][pl_month+1]),\n",
    "        'ending_equity':float(BS_2024[bs_account_row['Total Equity']][pl_month+1]),\n",
    "    }\n",
    "\n",
    "    roe = dupont_equation(pl,bs)\n",
    "    print(print_percentage(roe))\n",
    "    new_row += [roe]\n",
    "\n",
    "print(new_row)\n",
    "financial_analysis += [new_row]\n",
    "\n",
    "\n",
    "    #     print(account)"
   ]
  },
  {
   "cell_type": "code",
   "execution_count": 40,
   "metadata": {},
   "outputs": [],
   "source": [
    "file_name = 'Analysis.csv'\n",
    "for row in financial_analysis:\n",
    "    with open(file_name, 'a+', newline='') as f:\n",
    "        csv_writer = csv.writer(f)\n",
    "        csv_writer.writerow(row)\n",
    "   "
   ]
  },
  {
   "cell_type": "code",
   "execution_count": null,
   "metadata": {},
   "outputs": [],
   "source": []
  },
  {
   "cell_type": "code",
   "execution_count": null,
   "metadata": {},
   "outputs": [],
   "source": []
  },
  {
   "cell_type": "code",
   "execution_count": null,
   "metadata": {},
   "outputs": [],
   "source": []
  }
 ],
 "metadata": {
  "kernelspec": {
   "display_name": "Python 3",
   "language": "python",
   "name": "python3"
  },
  "language_info": {
   "codemirror_mode": {
    "name": "ipython",
    "version": 3
   },
   "file_extension": ".py",
   "mimetype": "text/x-python",
   "name": "python",
   "nbconvert_exporter": "python",
   "pygments_lexer": "ipython3",
   "version": "3.8.2"
  },
  "pycharm": {
   "stem_cell": {
    "cell_type": "raw",
    "source": [],
    "metadata": {
     "collapsed": false
    }
   }
  }
 },
 "nbformat": 4,
 "nbformat_minor": 4
}