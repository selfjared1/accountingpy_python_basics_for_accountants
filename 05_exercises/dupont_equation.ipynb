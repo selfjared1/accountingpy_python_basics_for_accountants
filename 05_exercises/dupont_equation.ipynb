{
 "cells": [
  {
   "cell_type": "code",
   "execution_count": 22,
   "metadata": {},
   "outputs": [],
   "source": []
  },
  {
   "cell_type": "code",
   "execution_count": 3,
   "metadata": {},
   "outputs": [],
   "source": [
    "def make_profit_margin(net_income,net_sales):\n",
    "    profit_margin = net_income/net_sales\n",
    "    return profit_margin\n",
    "\n",
    "# print(make_profit_margin(net_income,net_sales))"
   ]
  },
  {
   "cell_type": "code",
   "execution_count": 7,
   "metadata": {},
   "outputs": [],
   "source": [
    "def make_average_total_assets(beginning_assets, ending_assets):\n",
    "    average_total_assets = (beginning_assets + ending_assets)/2\n",
    "    return average_total_assets\n",
    "\n",
    "# print(make_average_total_assets(beginning_assets, ending_assets))"
   ]
  },
  {
   "cell_type": "code",
   "execution_count": 11,
   "metadata": {},
   "outputs": [],
   "source": [
    "def make_asset_turnover(net_sales, average_total_assets):\n",
    "    asset_turnover = net_sales/average_total_assets\n",
    "    return asset_turnover"
   ]
  },
  {
   "cell_type": "code",
   "execution_count": 14,
   "metadata": {},
   "outputs": [],
   "source": [
    "def make_financial_leverage(ending_assets,ending_equity):\n",
    "    financial_leverage = ending_assets/ending_equity\n",
    "    return financial_leverage"
   ]
  },
  {
   "cell_type": "code",
   "execution_count": 18,
   "metadata": {},
   "outputs": [],
   "source": [
    "def make_return_on_equity(profit_margin, asset_turnover, financial_leverage):\n",
    "    return_on_equity = profit_margin * asset_turnover * financial_leverage\n",
    "    return return_on_equity"
   ]
  },
  {
   "cell_type": "code",
   "execution_count": 37,
   "metadata": {},
   "outputs": [],
   "source": [
    "def print_percentage(float_num):\n",
    "    percentage_number = float_num*100\n",
    "    decimal_index = str(percentage_number).find(\".\")\n",
    "    percent_return = f'{percentage_number:{decimal_index}.1f}%'\n",
    "    return percent_return"
   ]
  },
  {
   "cell_type": "code",
   "execution_count": 33,
   "metadata": {},
   "outputs": [],
   "source": [
    "def dupont_equation(pl,bs):\n",
    "    profit_margin = make_profit_margin(pl['net_income'], pl['net_sales'])\n",
    "    average_total_assets = make_average_total_assets(bs['beginning_assets'], bs['ending_assets'])\n",
    "    asset_turnover = make_asset_turnover(pl['net_sales'], average_total_assets)\n",
    "    financial_leverage = make_financial_leverage(bs['ending_assets'], bs['ending_equity'])\n",
    "    return_on_equity = make_return_on_equity(profit_margin, asset_turnover, financial_leverage)\n",
    "    return return_on_equity\n"
   ]
  },
  {
   "cell_type": "code",
   "execution_count": 39,
   "metadata": {},
   "outputs": [
    {
     "name": "stdout",
     "output_type": "stream",
     "text": [
      "14.60%\n"
     ]
    }
   ],
   "source": [
    "pl = {\n",
    "'net_income':185,\n",
    "'net_sales':2628\n",
    "}\n",
    "\n",
    "bs = {\n",
    "    'beginning_assets':5954,\n",
    "    'ending_assets':4601,\n",
    "    'ending_equity':1105,\n",
    "}\n",
    "\n",
    "roe = dupont_equation(pl,bs)\n",
    "print(print_percentage(roe))"
   ]
  }
 ],
 "metadata": {
  "kernelspec": {
   "display_name": "Python 3",
   "language": "python",
   "name": "python3"
  },
  "language_info": {
   "codemirror_mode": {
    "name": "ipython",
    "version": 3
   },
   "file_extension": ".py",
   "mimetype": "text/x-python",
   "name": "python",
   "nbconvert_exporter": "python",
   "pygments_lexer": "ipython3",
   "version": "3.8.2"
  }
 },
 "nbformat": 4,
 "nbformat_minor": 4
}
