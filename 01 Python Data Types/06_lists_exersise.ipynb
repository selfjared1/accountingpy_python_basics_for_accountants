{
 "cells": [
  {
   "cell_type": "code",
   "execution_count": 1,
   "metadata": {},
   "outputs": [],
   "source": [
    "import csv\n",
    "import os\n",
    "os.chdir('C:\\\\Users\\\\User\\\\Desktop\\\\Quickbooks Reports')"
   ]
  },
  {
   "cell_type": "code",
   "execution_count": 4,
   "metadata": {},
   "outputs": [],
   "source": [
    "with open('PL 2024.CSV', newline='') as f:\n",
    "    reader = csv.reader(f)\n",
    "    PL_2024 = list(reader)\n",
    "# print(PL_2024)"
   ]
  },
  {
   "cell_type": "code",
   "execution_count": 5,
   "metadata": {},
   "outputs": [
    {
     "name": "stdout",
     "output_type": "stream",
     "text": [
      "['', 'Jan 24', 'Feb 24', 'Mar 24', 'Apr 24', 'May 24', 'Jun 24', 'Jul 24', 'Aug 24', 'Sep 24', 'Oct 24', 'Nov 24', 'Dec 24', 'TOTAL']\n"
     ]
    }
   ],
   "source": [
    "print(PL_2024[0])"
   ]
  },
  {
   "cell_type": "code",
   "execution_count": 14,
   "metadata": {},
   "outputs": [],
   "source": [
    "jan_pl = PL_2024[0].index('Jan 24')\n",
    "feb_pl = PL_2024[0].index('Feb 24')"
   ]
  },
  {
   "cell_type": "code",
   "execution_count": 9,
   "metadata": {},
   "outputs": [],
   "source": [
    "total_income = 6"
   ]
  },
  {
   "cell_type": "code",
   "execution_count": 23,
   "metadata": {},
   "outputs": [
    {
     "name": "stdout",
     "output_type": "stream",
     "text": [
      "55775.0\n",
      "34668.0\n",
      "0.608832352601823\n"
     ]
    }
   ],
   "source": [
    "jan_total_income = float(PL_2024[total_income][jan_pl])\n",
    "feb_total_income = float(PL_2024[total_income][feb_pl])\n",
    "monthly_increase = feb_total_income - jan_total_income\n",
    "print(feb_total_income)\n",
    "print(jan_total_income)\n",
    "print(monthly_increase/jan_total_income)"
   ]
  },
  {
   "cell_type": "code",
   "execution_count": null,
   "metadata": {},
   "outputs": [],
   "source": []
  }
 ],
 "metadata": {
  "kernelspec": {
   "display_name": "Python 3",
   "language": "python",
   "name": "python3"
  },
  "language_info": {
   "codemirror_mode": {
    "name": "ipython",
    "version": 3
   },
   "file_extension": ".py",
   "mimetype": "text/x-python",
   "name": "python",
   "nbconvert_exporter": "python",
   "pygments_lexer": "ipython3",
   "version": "3.8.2"
  }
 },
 "nbformat": 4,
 "nbformat_minor": 4
}
